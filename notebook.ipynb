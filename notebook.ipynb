{
 "cells": [
  {
   "cell_type": "code",
   "execution_count": 1,
   "id": "fcd94f8b",
   "metadata": {},
   "outputs": [],
   "source": [
    "import osmnx as ox\n",
    "import json\n",
    "\n",
    "# Descarga datos\n",
    "manresa_roads = ox.graph_from_place(\"Manresa, Spain\", network_type=\"drive\")\n",
    "nodes, edges = ox.graph_to_gdfs(manresa_roads)\n",
    "\n",
    "# Guarda en un JSON\n",
    "with open(\"manresa_roads.json\", \"w\") as f:\n",
    "    json.dump(json.loads(edges.to_json()), f)"
   ]
  }
 ],
 "metadata": {
  "kernelspec": {
   "display_name": "env",
   "language": "python",
   "name": "python3"
  },
  "language_info": {
   "codemirror_mode": {
    "name": "ipython",
    "version": 3
   },
   "file_extension": ".py",
   "mimetype": "text/x-python",
   "name": "python",
   "nbconvert_exporter": "python",
   "pygments_lexer": "ipython3",
   "version": "3.13.2"
  }
 },
 "nbformat": 4,
 "nbformat_minor": 5
}
